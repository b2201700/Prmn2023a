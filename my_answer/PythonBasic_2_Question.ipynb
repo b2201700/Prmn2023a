{
  "nbformat": 4,
  "nbformat_minor": 0,
  "metadata": {
    "colab": {
      "provenance": [],
      "include_colab_link": true
    },
    "kernelspec": {
      "name": "python3",
      "display_name": "Python 3"
    },
    "language_info": {
      "name": "python"
    }
  },
  "cells": [
    {
      "cell_type": "markdown",
      "metadata": {
        "id": "view-in-github",
        "colab_type": "text"
      },
      "source": [
        "<a href=\"https://colab.research.google.com/github/b2201700/Prmn2023a/blob/main/my_answer/PythonBasic_2_Question.ipynb\" target=\"_parent\"><img src=\"https://colab.research.google.com/assets/colab-badge.svg\" alt=\"Open In Colab\"/></a>"
      ]
    },
    {
      "cell_type": "markdown",
      "source": [
        "# 第2章 課題"
      ],
      "metadata": {
        "id": "C44SsXDACtHu"
      }
    },
    {
      "cell_type": "markdown",
      "source": [
        "## 課題1"
      ],
      "metadata": {
        "id": "OnkezWHRCwr9"
      }
    },
    {
      "cell_type": "markdown",
      "source": [
        "for文を使って、以下のように出力してください"
      ],
      "metadata": {
        "id": "q32rK-cECzCl"
      }
    },
    {
      "cell_type": "markdown",
      "source": [
        "![oSFeQoX.png](https://i.imgur.com/oSFeQoX.png)"
      ],
      "metadata": {
        "id": "FxMcxznVB6cI"
      }
    },
    {
      "cell_type": "code",
      "source": [
        "for i in range(4):\n",
        "  for j in range(7):\n",
        "    if j < 3-i or j > 3+i:\n",
        "      print(\" \",end=\" \")\n",
        "    else:\n",
        "      print(\"*\",end=\" \")\n",
        "  print(\"\\n\")"
      ],
      "metadata": {
        "id": "iBFSsrdRC5Zt",
        "outputId": "43675ebc-b7b1-4abc-f41c-14aaf55bb84b",
        "colab": {
          "base_uri": "https://localhost:8080/"
        }
      },
      "execution_count": 9,
      "outputs": [
        {
          "output_type": "stream",
          "name": "stdout",
          "text": [
            "      *       \n",
            "\n",
            "    * * *     \n",
            "\n",
            "  * * * * *   \n",
            "\n",
            "* * * * * * * \n",
            "\n"
          ]
        }
      ]
    },
    {
      "cell_type": "markdown",
      "source": [
        "## 課題2"
      ],
      "metadata": {
        "id": "gIn-UqGTCagu"
      }
    },
    {
      "cell_type": "markdown",
      "source": [
        "課題1の場合を`n=4`として、nを自分で設定して出力できるようにしてください"
      ],
      "metadata": {
        "id": "ltdiEdqYDFy8"
      }
    },
    {
      "cell_type": "markdown",
      "source": [
        "＜例＞ n=5の場合  \n",
        "![o5NjugQ.png](https://imgur.com/o5NjugQ.png)"
      ],
      "metadata": {
        "id": "hw0FM8BRDHz1"
      }
    },
    {
      "cell_type": "code",
      "source": [
        "n = int(input(\"n=\"))\n",
        "for i in range(n):\n",
        "  for j in range(2*n-1):\n",
        "    if j < n-1-i or j > n-1+i:\n",
        "      print(\" \",end=\" \")\n",
        "    else:\n",
        "      print(\"*\",end=\" \")\n",
        "  print(\"\\n\")"
      ],
      "metadata": {
        "id": "upd76Tv-FrIB",
        "outputId": "b15b2634-8505-4cf4-e9a5-36b990b3f6c6",
        "colab": {
          "base_uri": "https://localhost:8080/"
        }
      },
      "execution_count": 16,
      "outputs": [
        {
          "output_type": "stream",
          "name": "stdout",
          "text": [
            "n=4\n",
            "      *       \n",
            "\n",
            "    * * *     \n",
            "\n",
            "  * * * * *   \n",
            "\n",
            "* * * * * * * \n",
            "\n"
          ]
        }
      ]
    },
    {
      "cell_type": "markdown",
      "source": [
        "## 課題3"
      ],
      "metadata": {
        "id": "tLMJvwBDE7wT"
      }
    },
    {
      "cell_type": "markdown",
      "source": [
        "for文を使って、以下のように出力してください"
      ],
      "metadata": {
        "id": "vZNvWsG7E99q"
      }
    },
    {
      "cell_type": "markdown",
      "source": [
        "![oSirXec.png](https://imgur.com/oSirXec.png)"
      ],
      "metadata": {
        "id": "ijOV-ilXGDNR"
      }
    },
    {
      "cell_type": "code",
      "source": [
        "for i in range(7):\n",
        "  if i < 4:\n",
        "    a = i\n",
        "  else:\n",
        "    a = 6-i\n",
        "  for j in range(7):\n",
        "    if j < 3-a or j > 3+a:\n",
        "      print(\" \",end=\" \")\n",
        "    else:\n",
        "      print(\"*\",end=\" \")\n",
        "  print(\"\\n\")"
      ],
      "metadata": {
        "id": "Q5Ob9uZpGIE3",
        "outputId": "7ec9c377-4517-48fb-b013-ad21f6c5bdba",
        "colab": {
          "base_uri": "https://localhost:8080/"
        }
      },
      "execution_count": 17,
      "outputs": [
        {
          "output_type": "stream",
          "name": "stdout",
          "text": [
            "      *       \n",
            "\n",
            "    * * *     \n",
            "\n",
            "  * * * * *   \n",
            "\n",
            "* * * * * * * \n",
            "\n",
            "  * * * * *   \n",
            "\n",
            "    * * *     \n",
            "\n",
            "      *       \n",
            "\n"
          ]
        }
      ]
    },
    {
      "cell_type": "markdown",
      "source": [
        "## 課題4"
      ],
      "metadata": {
        "id": "Oh7whOPkGQ3I"
      }
    },
    {
      "cell_type": "markdown",
      "source": [
        "課題3の場合を`n=4`として、nを自分で設定して出力できるようにしてください"
      ],
      "metadata": {
        "id": "PnvT8MQbGS03"
      }
    },
    {
      "cell_type": "markdown",
      "source": [
        "＜例＞ n=5の場合  \n",
        "\n",
        "![my4J17V.png](https://i.imgur.com/my4J17V.png)"
      ],
      "metadata": {
        "id": "ZujkAbVMGzhn"
      }
    },
    {
      "cell_type": "code",
      "source": [
        "n = int(input(\"n=\"))\n",
        "for i in range(2*n-1):\n",
        "  if i < n:\n",
        "    a = i\n",
        "  else:\n",
        "    a = 2*(n-1)-i\n",
        "  for j in range(2*n-1):\n",
        "    if j < n-1-a or j > n-1+a:\n",
        "      print(\" \",end=\" \")\n",
        "    else:\n",
        "      print(\"*\",end=\" \")\n",
        "  print(\"\\n\")\n"
      ],
      "metadata": {
        "id": "hCFNQ7mWG99u",
        "outputId": "b9b28fcb-1a8d-4c71-a23c-7cce96865bd3",
        "colab": {
          "base_uri": "https://localhost:8080/"
        }
      },
      "execution_count": 21,
      "outputs": [
        {
          "output_type": "stream",
          "name": "stdout",
          "text": [
            "n=5\n",
            "        *         \n",
            "\n",
            "      * * *       \n",
            "\n",
            "    * * * * *     \n",
            "\n",
            "  * * * * * * *   \n",
            "\n",
            "* * * * * * * * * \n",
            "\n",
            "  * * * * * * *   \n",
            "\n",
            "    * * * * *     \n",
            "\n",
            "      * * *       \n",
            "\n",
            "        *         \n",
            "\n"
          ]
        }
      ]
    },
    {
      "cell_type": "markdown",
      "source": [
        "## 課題5"
      ],
      "metadata": {
        "id": "R2MvOK4wHJlK"
      }
    },
    {
      "cell_type": "markdown",
      "source": [
        "for文を使って、以下のように出力してください"
      ],
      "metadata": {
        "id": "ddMIUoaKHcwd"
      }
    },
    {
      "cell_type": "markdown",
      "source": [
        "![vDUi5eM.png](https://imgur.com/vDUi5eM.png)"
      ],
      "metadata": {
        "id": "CD1cVUlWHLVO"
      }
    },
    {
      "cell_type": "code",
      "source": [
        "for i in range(7):\n",
        "  if i < 4:\n",
        "    a = i\n",
        "  else:\n",
        "    a = 6-i\n",
        "  for j in range(13):\n",
        "    if j < 3-a or (j > 3+a and j < 9-a) or j > 9+a:\n",
        "      print(\" \",end=\" \")\n",
        "    else:  \n",
        "      print(\"*\",end=\" \")\n",
        "  print(\"\\n\")"
      ],
      "metadata": {
        "id": "1pDkfJpUHd93",
        "outputId": "d5382cf9-9499-4ec3-ca83-6da6733e6c74",
        "colab": {
          "base_uri": "https://localhost:8080/"
        }
      },
      "execution_count": 23,
      "outputs": [
        {
          "output_type": "stream",
          "name": "stdout",
          "text": [
            "      *           *       \n",
            "\n",
            "    * * *       * * *     \n",
            "\n",
            "  * * * * *   * * * * *   \n",
            "\n",
            "* * * * * * * * * * * * * \n",
            "\n",
            "  * * * * *   * * * * *   \n",
            "\n",
            "    * * *       * * *     \n",
            "\n",
            "      *           *       \n",
            "\n"
          ]
        }
      ]
    },
    {
      "cell_type": "markdown",
      "source": [
        "## 課題6"
      ],
      "metadata": {
        "id": "oubbafOBHerl"
      }
    },
    {
      "cell_type": "markdown",
      "source": [
        "課題5の場合を`n=4`として、nを自分で設定して出力できるようにしてください"
      ],
      "metadata": {
        "id": "7SzgFdC-HzG9"
      }
    },
    {
      "cell_type": "markdown",
      "source": [
        "＜例＞ n=5の場合  \n",
        "\n",
        "![udkVlYG.png](https://imgur.com/udkVlYG.png)"
      ],
      "metadata": {
        "id": "LY8g9PVPH2OW"
      }
    },
    {
      "cell_type": "code",
      "source": [
        "n = int(input(\"n=\"))\n",
        "for i in range(2*n-1):\n",
        "  if i < n:\n",
        "    a = i\n",
        "  else:\n",
        "    a = 2*(n-1)-i\n",
        "  for j in range(4*n-3):  # (2n-1)+(2n-2)\n",
        "    if j < n-1-a or (j > n-1+a and j < 3*n-3-a) or j > 3*n-3+a:  # (4n-3)-n # j < 3-a or (j > 3+a and j < 9-a) or j > 9+a\n",
        "      print(\" \",end=\" \")\n",
        "    else:  \n",
        "      print(\"*\",end=\" \")\n",
        "  print(\"\\n\")\n"
      ],
      "metadata": {
        "id": "XZOK5ulbH-tu",
        "outputId": "b59db698-c4de-431d-d005-b9b66f902d81",
        "colab": {
          "base_uri": "https://localhost:8080/"
        }
      },
      "execution_count": 33,
      "outputs": [
        {
          "output_type": "stream",
          "name": "stdout",
          "text": [
            "n=5\n",
            "        *               *         \n",
            "\n",
            "      * * *           * * *       \n",
            "\n",
            "    * * * * *       * * * * *     \n",
            "\n",
            "  * * * * * * *   * * * * * * *   \n",
            "\n",
            "* * * * * * * * * * * * * * * * * \n",
            "\n",
            "  * * * * * * *   * * * * * * *   \n",
            "\n",
            "    * * * * *       * * * * *     \n",
            "\n",
            "      * * *           * * *       \n",
            "\n",
            "        *               *         \n",
            "\n"
          ]
        }
      ]
    },
    {
      "cell_type": "markdown",
      "source": [
        "## 課題7"
      ],
      "metadata": {
        "id": "ouqTUmPQIKGF"
      }
    },
    {
      "cell_type": "markdown",
      "source": [
        "for文を使って、以下のように出力してください"
      ],
      "metadata": {
        "id": "WHSxdOHuIMRM"
      }
    },
    {
      "cell_type": "markdown",
      "source": [
        "![IuP0M16.png](https://imgur.com/IuP0M16.png)"
      ],
      "metadata": {
        "id": "-G--WFTkIM8s"
      }
    },
    {
      "cell_type": "code",
      "source": [
        "for i in range(7):\n",
        "  if i < 4:\n",
        "    a = i\n",
        "  else:\n",
        "    a = 6-i\n",
        "  for j in range(13):\n",
        "    if j < 3-a or (j > 3+a and j < 9-a) or j > 9+a:\n",
        "      print(\" \",end=\" \")\n",
        "    else:  \n",
        "      print(\"*\",end=\" \")\n",
        "  print(\"\\n\")\n"
      ],
      "metadata": {
        "id": "BVXjDteuIijL"
      },
      "execution_count": null,
      "outputs": []
    },
    {
      "cell_type": "markdown",
      "source": [
        "## 課題8"
      ],
      "metadata": {
        "id": "31u0ExX2IjWj"
      }
    },
    {
      "cell_type": "markdown",
      "source": [
        "課題7の場合を`n=4`として、nを自分で設定して出力できるようにしてください"
      ],
      "metadata": {
        "id": "zeOvmKarInpz"
      }
    },
    {
      "cell_type": "markdown",
      "source": [
        "＜例＞ n=5の場合  \n",
        "\n",
        "![AlTnu1k.png](https://imgur.com/AlTnu1k.png)"
      ],
      "metadata": {
        "id": "2uLR5sbKIov2"
      }
    },
    {
      "cell_type": "code",
      "source": [
        "# 入力用\n"
      ],
      "metadata": {
        "id": "TXJaIVbYI_Cd"
      },
      "execution_count": null,
      "outputs": []
    }
  ]
}