{
  "nbformat": 4,
  "nbformat_minor": 0,
  "metadata": {
    "colab": {
      "provenance": [],
      "include_colab_link": true
    },
    "kernelspec": {
      "name": "python3",
      "display_name": "Python 3"
    },
    "language_info": {
      "name": "python"
    }
  },
  "cells": [
    {
      "cell_type": "markdown",
      "metadata": {
        "id": "view-in-github",
        "colab_type": "text"
      },
      "source": [
        "<a href=\"https://colab.research.google.com/github/b2201700/Prmn2023a/blob/main/my_answer/PythonBasic_5_Question.ipynb\" target=\"_parent\"><img src=\"https://colab.research.google.com/assets/colab-badge.svg\" alt=\"Open In Colab\"/></a>"
      ]
    },
    {
      "cell_type": "markdown",
      "source": [
        "<a href=\"https://colab.research.google.com/github/kiryu-3/Prmn2023/blob/main/Python/Python_Basic/question/PythonBasic_5_Question.ipynb\" target=\"_parent\"><img src=\"https://colab.research.google.com/assets/colab-badge.svg\" alt=\"Open In Colab\"/></a>"
      ],
      "metadata": {
        "id": "TA5kKi-LY1xg"
      }
    },
    {
      "cell_type": "markdown",
      "source": [
        "# 第5章 課題"
      ],
      "metadata": {
        "id": "r-kcfL2yEU8b"
      }
    },
    {
      "cell_type": "markdown",
      "source": [
        "## 課題1"
      ],
      "metadata": {
        "id": "RWo2DmBs_2c4"
      }
    },
    {
      "cell_type": "markdown",
      "source": [
        "1桁の自然数を乱数を使って5つ格納した2つのリストを作ってください。  \n",
        "この時、一つのリスト内で5つの値が重複しないようにしてください\n",
        "\n",
        "その後、そのリストから重複する要素を削除した新しいリストと、   \n",
        "共通の要素を持つ新しいリストを出力してください"
      ],
      "metadata": {
        "id": "QRNvqmTgE8Ww"
      }
    },
    {
      "cell_type": "markdown",
      "source": [
        "＜実行結果例＞\n",
        "``` py  \n",
        "1つ目のリスト：[1, 2, 3, 4, 5]  \n",
        "2つ目のリスト：[1, 3, 5, 7, 9]  \n",
        "重複削除リスト：[1, 2, 3, 4, 5, 7, 9] \n",
        "共通要素リスト：[1, 3, 5]\n",
        "```"
      ],
      "metadata": {
        "id": "Goi4CqGxFOpn"
      }
    },
    {
      "cell_type": "markdown",
      "source": [
        "＜ヒント＞ set関数を用いても用いなくても答えは出せます。"
      ],
      "metadata": {
        "id": "iEOFeFjqkkyS"
      }
    },
    {
      "cell_type": "code",
      "source": [
        "import random\n",
        "\n",
        "def input_list():\n",
        "  listA = []\n",
        "  i = 0\n",
        "  while (i < 5):\n",
        "    x = random.randint(0,9) * 10\n",
        "    if x not in listA:\n",
        "      listA.append(x)\n",
        "      i += 1\n",
        "    else:\n",
        "      continue\n",
        "  return listA\n",
        "\n",
        "def list_list(listB,listC):\n",
        "  listD = list(listB)\n",
        "  listE = []\n",
        "  for i in range(5):\n",
        "    if listC[i] not in listB:\n",
        "      listD.append(listC[i])\n",
        "    else:\n",
        "      listE.append(listC[i])\n",
        "  return listD,listE\n",
        "\n",
        "list1 = input_list()\n",
        "list2 = input_list()\n",
        "print(f'1つ目のリスト:{list1}\\n2つ目のリスト:{list2}')\n",
        "list3,list4 = list_list(list1,list2)\n",
        "print(f'重複削除リスト:{list3}\\n共通要素リスト:{list4}')"
      ],
      "metadata": {
        "id": "pQdhCOALMGWj",
        "colab": {
          "base_uri": "https://localhost:8080/"
        },
        "outputId": "0185a648-1357-45e8-a1c8-e56063324c58"
      },
      "execution_count": 12,
      "outputs": [
        {
          "output_type": "stream",
          "name": "stdout",
          "text": [
            "1つ目のリスト:[60, 90, 10, 20, 40]\n",
            "2つ目のリスト:[60, 0, 90, 20, 30]\n",
            "重複削除リスト:[60, 90, 10, 20, 40, 0, 30]\n",
            "共通要素リスト:[60, 90, 20]\n"
          ]
        }
      ]
    },
    {
      "cell_type": "markdown",
      "source": [
        "## 課題2"
      ],
      "metadata": {
        "id": "-qZw_n3X8xrW"
      }
    },
    {
      "cell_type": "markdown",
      "source": [
        "共通のキーを持つ辞書を要素とするリストから、特定のキーの値のリストを取得してみます。"
      ],
      "metadata": {
        "id": "vxwATeobQf_U"
      }
    },
    {
      "cell_type": "markdown",
      "source": [
        "以下のリストから、都道府県コード・都道府県・県庁所在地それぞれのリストを作成してください\n",
        "\n",
        "キーが存在しないところがある点に注意してください"
      ],
      "metadata": {
        "id": "tGPa1uU6Qs2c"
      }
    },
    {
      "cell_type": "code",
      "source": [
        "todohuken_data = [{\"コード\": 24, \"都道府県\": \"三重\", \"県庁所在地\": \"津\"},\n",
        "                  {\"コード\": 25, \"都道府県\": \"滋賀\", \"県庁所在地\": \"大津\"},\n",
        "                  {\"コード\": 31, \"都道府県\": \"鳥取\"},\n",
        "                  {\"コード\": 32, \"都道府県\": \"島根\", \"県庁所在地\": \"松江\"},\n",
        "                  {\"コード\": 37, \"都道府県\": \"香川\", \"県庁所在地\": \"高松\"},\n",
        "                  {\"コード\": 38, \"都道府県\": \"愛媛\", \"県庁所在地\": \"松山\"},]"
      ],
      "metadata": {
        "id": "8ZdyRWbERGAY"
      },
      "execution_count": 16,
      "outputs": []
    },
    {
      "cell_type": "markdown",
      "source": [
        "＜出力結果例＞  \n",
        "``` py\n",
        "[24, 25, 31, 32, 37, 38]  \n",
        "['三重', '滋賀', '鳥取', '島根', '香川', '愛媛']\n",
        "['津', '大津', None, '松江', '高松', '松山']\n",
        "```"
      ],
      "metadata": {
        "id": "dQ2n3OMSUXh2"
      }
    },
    {
      "cell_type": "code",
      "source": [
        "todohuken_code = []\n",
        "todohuken_name = []\n",
        "todohuken_capital = []\n",
        "for i in range(6):\n",
        "  todohuken_code.append( todohuken_data[i].get(\"コード\") )\n",
        "  todohuken_name.append( todohuken_data[i].get(\"都道府県\") )\n",
        "  todohuken_capital.append( todohuken_data[i].get(\"県庁所在地\") )\n",
        "print(todohuken_code)\n",
        "print(todohuken_name)\n",
        "print(todohuken_capital)"
      ],
      "metadata": {
        "id": "duwCERgQUify",
        "colab": {
          "base_uri": "https://localhost:8080/"
        },
        "outputId": "7ff694a6-36c0-4439-c775-f92b1c42485d"
      },
      "execution_count": 17,
      "outputs": [
        {
          "output_type": "stream",
          "name": "stdout",
          "text": [
            "[24, 25, 31, 32, 37, 38]\n",
            "['三重', '滋賀', '鳥取', '島根', '香川', '愛媛']\n",
            "['津', '大津', None, '松江', '高松', '松山']\n"
          ]
        }
      ]
    },
    {
      "cell_type": "markdown",
      "source": [
        "## 課題3"
      ],
      "metadata": {
        "id": "1S8kadYgq_gV"
      }
    },
    {
      "cell_type": "markdown",
      "source": [
        "ある文字列が与えられた場合、文字列内の各文字の出現回数をディクショナリの形で返してください\n",
        "\n",
        "大文字と小文字は区別してください  \n",
        "また、出力時はアルファベット順にソートした状態にしてください"
      ],
      "metadata": {
        "id": "OdSKG7k9rA7V"
      }
    },
    {
      "cell_type": "markdown",
      "source": [
        "＜実行結果例＞　「Hello, World!」の各文字のカウント\n",
        "``` py\n",
        "{'H': 1, 'W': 1, 'd': 1, 'e': 1, 'l': 3, 'o': 2, 'r': 1}\n",
        "```"
      ],
      "metadata": {
        "id": "p0suMufQuEzI"
      }
    },
    {
      "cell_type": "code",
      "source": [
        "import string\n",
        "\n",
        "str1 = input('英語の文字列を入力してください:')\n",
        "str2 = ''.join(c for c in str1 if c.isalpha())  # アルファベット以外の文字を削除 最初に実行してください\n",
        "#print(str2)\n",
        "list_alp = list(string.ascii_uppercase) + list (string.ascii_lowercase) \n",
        "dic3 = {}\n",
        "for c in list_alp:\n",
        "  x = str2.count(c)\n",
        "  if x > 0:\n",
        "    dic3[c] = x\n",
        "print(dic3)"
      ],
      "metadata": {
        "id": "bHv50oDhrdzN",
        "colab": {
          "base_uri": "https://localhost:8080/"
        },
        "outputId": "5ad3df47-f173-4fc0-a464-9d059aaaeee6"
      },
      "execution_count": 52,
      "outputs": [
        {
          "output_type": "stream",
          "name": "stdout",
          "text": [
            "英語の文字列を入力してください:ACBacb136\n",
            "{'A': 1, 'B': 1, 'C': 1, 'a': 1, 'b': 1, 'c': 1}\n"
          ]
        }
      ]
    },
    {
      "cell_type": "markdown",
      "source": [
        "## 課題4"
      ],
      "metadata": {
        "id": "W573lh39MOlj"
      }
    },
    {
      "cell_type": "markdown",
      "source": [
        "ある大学の名前と年齢が、次のような形式で格納されたディクショナリ `university_dic` があります。"
      ],
      "metadata": {
        "id": "sSIMKY-aNcIx"
      }
    },
    {
      "cell_type": "code",
      "source": [
        "university_dic = {\n",
        "    \"Chitose\" : 25,\n",
        "    \"Hokudai\" : 105,\n",
        "    \"Muroran\" : 74,\n",
        "    \"Hakodate\": 23,\n",
        "}"
      ],
      "metadata": {
        "id": "v-wGyWuKK3wl"
      },
      "execution_count": 33,
      "outputs": []
    },
    {
      "cell_type": "markdown",
      "source": [
        "このリストを、年齢順にソートして、新たなディクショナリとして出力してください"
      ],
      "metadata": {
        "id": "XIxDf9QgO1iH"
      }
    },
    {
      "cell_type": "markdown",
      "source": [
        "＜実行結果＞  \n",
        "``` py\n",
        "{'Hakodate': 23, 'Chitose': 25, 'Muroran': 74, 'Hokudai': 105}\n",
        "```"
      ],
      "metadata": {
        "id": "0Z2-_1dAQENU"
      }
    },
    {
      "cell_type": "code",
      "source": [
        "list_value = sorted(university_dic.values())\n",
        "list_key = []\n",
        "for i in list_value:\n",
        "  for k,v in university_dic.items():\n",
        "    if v == i:\n",
        "      list_key.append(k) \n",
        "#print(list_value)\n",
        "#print(list_key)\n",
        "dic4 = dict(zip(list_key,list_value))\n",
        "print(dic4)"
      ],
      "metadata": {
        "id": "ficNVfkgR5Kv",
        "colab": {
          "base_uri": "https://localhost:8080/"
        },
        "outputId": "6435f727-98c9-4ced-b00a-c3dae3cdf35f"
      },
      "execution_count": 49,
      "outputs": [
        {
          "output_type": "stream",
          "name": "stdout",
          "text": [
            "{'Hakodate': 23, 'Chitose': 25, 'Muroran': 74, 'Hokudai': 105}\n"
          ]
        }
      ]
    },
    {
      "cell_type": "markdown",
      "source": [
        "## 課題5"
      ],
      "metadata": {
        "id": "QijnXk7UWAVC"
      }
    },
    {
      "cell_type": "markdown",
      "source": [
        "**FizzBuzz（フィズ・バズ）問題**という問題について解いていきます。\n",
        "\n",
        "もともとは、英語圏で長距離ドライブ中や飲み会の時に行われる言葉遊びです。"
      ],
      "metadata": {
        "id": "m7F47Q1mWCA6"
      }
    },
    {
      "cell_type": "markdown",
      "source": [
        "以下のような問題になります。\n",
        "\n",
        "1～Nまでの整数を順に出力しなさい。ただし、例外として以下のルールを守ること。\n",
        "\n",
        "* 3で割り切れる数字の場合はFizzを出力\n",
        "* 5で割り切れる数字の場合はBuzzを出力\n",
        "* 7で割り切れる数字の場合はJazzを出力\n",
        "* 複数条件が当てはまる場合は組み合わせて出力（ \"FizzBuzz\", \"FizzJazz\", \"BuzzJazz\" など）"
      ],
      "metadata": {
        "id": "fArw0VcNWgwZ"
      }
    },
    {
      "cell_type": "code",
      "source": [],
      "metadata": {
        "id": "aaElp-WPp2I1"
      },
      "execution_count": null,
      "outputs": []
    },
    {
      "cell_type": "markdown",
      "source": [
        "ここでは N=100として、まずは一つのリストに  \n",
        "\"Fizz\" か \"Buzz\" か \"Jazz\" か \"組み合わさったもの\" か \"others\" を格納してください。\n",
        "\n",
        "その後、それぞれの要素の数をカウントし、ディクショナリの形で出力してください。"
      ],
      "metadata": {
        "id": "SYqkpYstWm7Z"
      }
    },
    {
      "cell_type": "markdown",
      "source": [
        "＜実行結果例＞  \n",
        "``` py\n",
        "{'Fizz': 23, 'Buzz': 12, 'Jazz': 8, 'FizzBuzz': 6, 'FizzJazz': 4, 'BuzzJazz': 2, 'others': 45}\n",
        "```"
      ],
      "metadata": {
        "id": "OqLuJTcWYzFt"
      }
    },
    {
      "cell_type": "code",
      "source": [
        "list_FB = []\n",
        "for i in range(1,101):\n",
        "  if i % 3 == 0:\n",
        "    if i % 5 == 0:\n",
        "      list_FB.append('FizzBuzz')\n",
        "    elif i % 7 == 0:\n",
        "      list_FB.append('FizzJazz')\n",
        "    else:\n",
        "      list_FB.append('Fizz')\n",
        "  elif i % 5 == 0:\n",
        "    if i % 7 == 0:\n",
        "      list_FB.append('BuzzJazz')\n",
        "    else:\n",
        "      list_FB.append('Buzz')\n",
        "  elif i % 7 == 0:\n",
        "    list_FB.append('Jazz')\n",
        "  else:\n",
        "    list_FB.append('others')\n",
        "list_class = ['Fizz','Buzz','Jazz','FizzBuzz','FizzJazz','BuzzJazz','others']\n",
        "list_count = [ list_FB.count(list_class[i]) for i in range(7) ]\n",
        "dic5 = dict(zip(list_class,list_count))\n",
        "print(dic5)"
      ],
      "metadata": {
        "id": "BLYbI0E48o2G",
        "colab": {
          "base_uri": "https://localhost:8080/"
        },
        "outputId": "8443580f-a6d5-4ae1-c6d6-d77434cff31c"
      },
      "execution_count": 48,
      "outputs": [
        {
          "output_type": "stream",
          "name": "stdout",
          "text": [
            "{'Fizz': 23, 'Buzz': 12, 'Jazz': 8, 'FizzBuzz': 6, 'FizzJazz': 4, 'BuzzJazz': 2, 'others': 45}\n"
          ]
        }
      ]
    }
  ]
}