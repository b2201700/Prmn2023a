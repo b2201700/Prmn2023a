{
  "nbformat": 4,
  "nbformat_minor": 0,
  "metadata": {
    "colab": {
      "provenance": [],
      "include_colab_link": true
    },
    "kernelspec": {
      "name": "python3",
      "display_name": "Python 3"
    },
    "language_info": {
      "name": "python"
    }
  },
  "cells": [
    {
      "cell_type": "markdown",
      "metadata": {
        "id": "view-in-github",
        "colab_type": "text"
      },
      "source": [
        "<a href=\"https://colab.research.google.com/github/b2201700/Prmn2023a/blob/main/my_answer/PythonBasic_7_Question.ipynb\" target=\"_parent\"><img src=\"https://colab.research.google.com/assets/colab-badge.svg\" alt=\"Open In Colab\"/></a>"
      ]
    },
    {
      "cell_type": "markdown",
      "source": [
        "# 第7章 課題"
      ],
      "metadata": {
        "id": "JR-0wWX5GOz4"
      }
    },
    {
      "cell_type": "markdown",
      "source": [
        "## 課題1"
      ],
      "metadata": {
        "id": "a-2Yu9QBGREf"
      }
    },
    {
      "cell_type": "markdown",
      "source": [
        "`ppap.txt`をアップロードしてください。  \n",
        "\n",
        "ピコ太郎さんの「PPAP」という歌の歌詞が書かれています。  \n",
        "まずはこのテキストファイルから歌詞を読み込んでください。"
      ],
      "metadata": {
        "id": "icanGSBB6KCB"
      }
    },
    {
      "cell_type": "markdown",
      "source": [
        "歌詞の単語の登場回数を数え、  \n",
        "出現回数の多い順にソートしたディクショナリを関数で返してください\n",
        "\n",
        "その後、そのディクショナリを出力してください"
      ],
      "metadata": {
        "id": "Wy8Sx90f6WTB"
      }
    },
    {
      "cell_type": "markdown",
      "source": [
        "＜実行結果＞  \n",
        "``` py\n",
        "{'pen': 8, 'i': 4, 'have': 4, 'apple': 4, 'pineapple': 4, 'a': 3, 'ppap': 1, 'an': 1}\n",
        "```"
      ],
      "metadata": {
        "id": "0Z2-_1dAQENU"
      }
    },
    {
      "cell_type": "code",
      "source": [
        "# テキスト読み込み\n",
        "with open(\"ppap.txt\" , mode = \"r+\") as f:\n",
        "  lines = f.read().splitlines()\n",
        "  print(lines)\n"
      ],
      "metadata": {
        "id": "5DzB6nze6d65",
        "colab": {
          "base_uri": "https://localhost:8080/"
        },
        "outputId": "717b6fd6-727b-41e3-8772-5c865a114fac"
      },
      "execution_count": null,
      "outputs": [
        {
          "output_type": "stream",
          "name": "stdout",
          "text": [
            "['PPAP', 'I have a pen.', 'I have an apple.', 'Apple pen！', 'I have a pen.', 'I have a pineapple.', 'Pineapple pen！', 'Apple pen.', 'Pineapple pen.', 'Pen-pineapple-Apple-pen！']\n"
          ]
        }
      ]
    },
    {
      "cell_type": "code",
      "source": [
        "import string\n",
        "\n",
        "def lines_split( lines ):  # 歌詞の単語リストを作成する\n",
        "  word_list2 = []\n",
        "  for s in lines:\n",
        "    s = s.replace('！',' ')  # \"！\"を空白に置き換える\n",
        "    s = s.replace('-',' ')  # \"-\"を空白に置き換える\n",
        "    s = s.translate( str.maketrans( '', '',string.punctuation ) )  # 特殊文字を除去する\n",
        "    word_list = s.lower().split()  # 単語を小文字に変換し、改行・空白で文字列を分割する\n",
        "    for ss in word_list:\n",
        "      word_list2.append(ss)\n",
        "  return word_list2\n",
        "\n",
        "def word_count( word_list ):  # 歌詞の単語リストから単語の登場回数を求める\n",
        "  word_list2 = word_list.copy()\n",
        "  num_list = []\n",
        "  word_dict = {}\n",
        "\n",
        "  for s in word_list:  # 重複なしのリストをアルファベット順に作成\n",
        "    if word_list2.count( s ) > 1:\n",
        "      word_list2.remove( s )\n",
        "  word_list2.sort()\n",
        "\n",
        "  for s in word_list2:  # 単語の登場回数のリストを降順に作成\n",
        "    num_list.append(word_list.count(s))\n",
        "  num_list.sort( reverse = True )\n",
        "\n",
        "  for i in num_list:  # ディクショナリを作成\n",
        "    for s in word_list2:\n",
        "      if word_list.count( s ) == i:\n",
        "        word_dict[ s ] = word_list.count( s )\n",
        "        word_list2.remove( s )\n",
        "        break\n",
        "  return word_dict\n",
        "\n",
        "# メイン関数\n",
        "word_list = lines_split( lines )  # lines_split\n",
        "sorted_dict = word_count( word_list )  # word_count\n",
        "print( sorted_dict )"
      ],
      "metadata": {
        "id": "NHsFskbC6fzq",
        "colab": {
          "base_uri": "https://localhost:8080/"
        },
        "outputId": "4e818678-fdef-4a53-e55e-6c22c477be70"
      },
      "execution_count": null,
      "outputs": [
        {
          "output_type": "stream",
          "name": "stdout",
          "text": [
            "{'pen': 8, 'apple': 4, 'have': 4, 'i': 4, 'pineapple': 4, 'a': 3, 'an': 1, 'ppap': 1}\n"
          ]
        }
      ]
    },
    {
      "cell_type": "markdown",
      "source": [
        "## 課題2"
      ],
      "metadata": {
        "id": "dSQu_cY6EpMk"
      }
    },
    {
      "cell_type": "markdown",
      "source": [
        "`toukei_seiseki.txt`をアップロードしてください。\n",
        "\n",
        "とある人の統計学の成績データになります。"
      ],
      "metadata": {
        "id": "b-ekHtnVEwsO"
      }
    },
    {
      "cell_type": "markdown",
      "source": [
        "成績評価を0~5の6段階でつけたいものとします。  \n",
        "\n",
        "|成績|点数|\n",
        "|:---| :--- |\n",
        "|$A$|5|\n",
        "|$B^{+}$|4|\n",
        "|$B$|3|\n",
        "|$B^{-}$|2|\n",
        "|$C^{+}$|1|\n",
        "|$C$|0|\n"
      ],
      "metadata": {
        "id": "L3i6Z8xg9eHr"
      }
    },
    {
      "cell_type": "markdown",
      "source": [
        "上表のように成績を変換する関数を作成してください  "
      ],
      "metadata": {
        "id": "EdC2oqvr9eHs"
      }
    },
    {
      "cell_type": "markdown",
      "source": [
        "この科目は、「5×全15回=最大点75点」に、  \n",
        "「全14回×50点=最大点700点を25点に圧縮したもの」の和によって成績判定を行います。"
      ],
      "metadata": {
        "id": "CbT-Ni7g9eHs"
      }
    },
    {
      "cell_type": "markdown",
      "source": [
        "適切に関数を使い、以下のデータの成績評価を行えるようにしてください\n",
        "\n",
        "\n"
      ],
      "metadata": {
        "id": "lrIoPU8b9eHs"
      }
    },
    {
      "cell_type": "markdown",
      "source": [
        "＜例＞  \n",
        "小テストの合計点は600点だったので25点満点に圧縮すると21.42点  \n",
        "課題は全て$B^+$評価だったので4×15=60点  \n",
        "合計点81.42点なので評定は「優」"
      ],
      "metadata": {
        "id": "-QKViYIF9eHt"
      }
    },
    {
      "cell_type": "code",
      "source": [
        "import string\n",
        "\n",
        "with open(\"toukei_seiseki.txt\" , mode = \"r+\") as f:  # テキスト読み込み\n",
        "  lines = f.read().splitlines()\n",
        "\n",
        "def dict_text( lines ):  # テキストから成績のディクショナリを作成する\n",
        "  data_list1 = []\n",
        "  data_list2 = []\n",
        "  data_dict  = {}\n",
        "  lines.pop(0)\n",
        "\n",
        "  for s in lines:\n",
        "    data_list1.append( s.split(\"\\t\")[1] )\n",
        "    data_list2.append( s.split(\"\\t\")[2] )\n",
        "  data_dict[ data_list1.pop(0) ] = data_list1\n",
        "  data_dict[ data_list2.pop(0) ] = data_list2\n",
        "  # print(data_dict)\n",
        "  return data_dict\n",
        "\n",
        "def convert( data_list ):  # 成績を点数に変換する\n",
        "  score_list = []\n",
        "\n",
        "  for s in data_list:\n",
        "    s = s.replace(\"C+\",\"1\").replace(\"C\",\"0\").replace(\"B-\",\"2\").replace(\"B+\",\"4\").replace(\"B\",\"3\").replace(\"A\",\"5\")\n",
        "    if s == \"\":  # 空白の場合、リストに入れない\n",
        "      continue\n",
        "    score_list.append(int(s))\n",
        "  # print(score_list)\n",
        "  return score_list\n",
        "\n",
        "def evaluate( data_list1 , data_list2 ):  # 評定を求める\n",
        "  score1 = sum( data_list1 )  # 課題の点数の合計を求める\n",
        "  score2 = sum( data_list2 ) * (25/700)  # 小テストの点数の合計を求めて圧縮する\n",
        "  score = score1 + score2\n",
        "\n",
        "  if score >= 90:\n",
        "    evaluation = \"秀\"\n",
        "  elif score >= 80:\n",
        "    evaluation = \"優\"\n",
        "  elif score >= 70:\n",
        "    evaluation = \"良\"\n",
        "  elif score >= 60:\n",
        "    evaluation = \"可\"\n",
        "  else:\n",
        "    evaluation = \"不可\"\n",
        "\n",
        "  return score , evaluation\n",
        "\n",
        "# メイン\n",
        "text_dict = dict_text( lines )  # テキストから成績のディクショナリを作成する\n",
        "kadai_score_list = convert( text_dict[\"課題\"] )  # 成績を点数に変換する\n",
        "test_score_list = convert( text_dict[\"小テスト\"] )\n",
        "score , evaluation = evaluate( kadai_score_list , test_score_list )  # 評定を求める\n",
        "print(f'合計点:{score}\\n評定:{evaluation}')"
      ],
      "metadata": {
        "id": "vZ1lU1LLGX2j",
        "colab": {
          "base_uri": "https://localhost:8080/"
        },
        "outputId": "467c5152-6986-4e1d-a9aa-20add71e5b4e"
      },
      "execution_count": null,
      "outputs": [
        {
          "output_type": "stream",
          "name": "stdout",
          "text": [
            "合計点:91.60714285714286\n",
            "評定:秀\n"
          ]
        }
      ]
    },
    {
      "cell_type": "code",
      "source": [
        "# 参考 成績データの空ディクショナリ\n",
        "test_data = {\"課題\":[],\"小テスト\":[]}"
      ],
      "metadata": {
        "id": "B6heQ-a8Fk2C"
      },
      "execution_count": null,
      "outputs": []
    },
    {
      "cell_type": "markdown",
      "source": [
        "### 課題2 補足"
      ],
      "metadata": {
        "id": "E8ZRqBlkGW2D"
      }
    },
    {
      "cell_type": "markdown",
      "source": [
        "文字列を置換したいときは**`replace`メソッド**を使います。  \n",
        "\n",
        "複数回行いたいときは`replace`メソッドを複数回続けます。"
      ],
      "metadata": {
        "id": "s4IPiuNZGd96"
      }
    },
    {
      "cell_type": "code",
      "source": [
        "hantei_list = [\"60\",\"70\",\"80\",\"90\"]\n",
        "kekka_list = []\n",
        "\n",
        "\"\"\"\n",
        "リストから要素を取り出して指定の値を置換する\n",
        "\"\"\"\n",
        "for hantei in hantei_list:\n",
        "  hantei = hantei.replace(\"60\",\"可\").replace(\"70\",\"良\").replace(\"80\",\"優\").replace(\"90\",\"秀\")\n",
        "  kekka_list.append(hantei)\n",
        "\n",
        "print(kekka_list)"
      ],
      "metadata": {
        "colab": {
          "base_uri": "https://localhost:8080/"
        },
        "id": "83OyhJkDGupg",
        "outputId": "f242a522-4daf-4bf7-a2ec-76a9b2b8c04a"
      },
      "execution_count": null,
      "outputs": [
        {
          "output_type": "stream",
          "name": "stdout",
          "text": [
            "['可', '良', '優', '秀']\n"
          ]
        }
      ]
    },
    {
      "cell_type": "markdown",
      "source": [
        "## 課題3"
      ],
      "metadata": {
        "id": "ImanFioRIU6F"
      }
    },
    {
      "cell_type": "markdown",
      "source": [
        "`all_seiseki.txt`をアップロードしてください。\n",
        "\n",
        "とある人の2年春学期までの成績データになります。"
      ],
      "metadata": {
        "id": "9Q_HBLgfIXVf"
      }
    },
    {
      "cell_type": "markdown",
      "source": [
        "GPAを計算したいものとします。  \n",
        "成績に付与されるGPは以下の通りです。\n",
        "\n",
        "|成績|GP|\n",
        "|:---| :--- |\n",
        "|秀|4|\n",
        "|優|3|\n",
        "|良|2|\n",
        "|可|1|\n",
        "|不可|0|"
      ],
      "metadata": {
        "id": "wimEVJZUMWoL"
      }
    },
    {
      "cell_type": "markdown",
      "source": [
        "上表のように成績を変換する関数を作成してください"
      ],
      "metadata": {
        "id": "vLfMefKLNZsq"
      }
    },
    {
      "cell_type": "markdown",
      "source": [
        "GPAの計算式は以下の通りです。  \n",
        "$$\n",
        "GPA = \\frac{(GP×そのGPの単位数) の合計}{履修単位数}\n",
        "$$"
      ],
      "metadata": {
        "id": "pJ-Cltm9NbZ6"
      }
    },
    {
      "cell_type": "markdown",
      "source": [
        "適切に関数を使い、テキストデータのGPAを算出してください"
      ],
      "metadata": {
        "id": "k_jm9pzkOFAw"
      }
    },
    {
      "cell_type": "code",
      "source": [
        "with open(\"all_seiseki.txt\" , mode = \"r+\") as f:  # テキスト読み込み\n",
        "  lines = f.read().splitlines()\n",
        "\n",
        "def dictlist_data( lines ):  # テキストから、成績データのディクショナリと1単位の科目のリストを作成する\n",
        "  data_list1 = []\n",
        "  data_list2 = []\n",
        "  data_list3 = []\n",
        "  data_dict  = {}\n",
        "  for s in lines:\n",
        "    # 科目名と成績のディクショナリを作成する\n",
        "    data_list1.append( s.split(\"\\t\")[3] )\n",
        "    data_list2.append( s.split(\"\\t\")[-2] )\n",
        "    # 1単位の科目のリストを作成する\n",
        "    if s.split(\"\\t\")[-1] == \"1\":  # テキストファイルの文章で\\tの個数が揃っていなかったため、テキストファイルの方を揃えました。\n",
        "      data_list3.append( s.split(\"\\t\")[3] )\n",
        "  data_dict[ data_list1.pop(0) ] = data_list1\n",
        "  data_dict[ data_list2.pop(0) ] = data_list2\n",
        "  # print(data_dict)\n",
        "  # print(data_list3)\n",
        "  return data_dict , data_list3\n",
        "\n",
        "def convert_gp( data_list ):  # 成績をGPに変換する\n",
        "  gp_list = []\n",
        "  for s in data_list:\n",
        "    s = s.replace(\"秀\",\"4\").replace(\"優\",\"3\").replace(\"良\",\"2\").replace(\"可\",\"1\").replace(\"不可\",\"0\")\n",
        "    gp_list.append( int(s) )\n",
        "  return gp_list\n",
        "\n",
        "def calc_gpa( data_list , class_list , one_unit_class ):  # GPAを求める\n",
        "  sum = 0\n",
        "  unit = 0\n",
        "  for i in range( len( class_list ) ):\n",
        "    if class_list[i] in list(one_unit_class):  # 1単位の科目のGPの合計を求める\n",
        "      sum += data_list[i]\n",
        "      unit += 1\n",
        "    else:  # 2単位の科目のGPの合計を求める\n",
        "      sum += data_list[i] * 2\n",
        "      unit += 2\n",
        "  gpa = sum / unit\n",
        "  return gpa\n",
        "\n",
        "#メイン\n",
        "seiseki_dict , one_unit_class = dictlist_data( lines )  # テキストから、成績のディクショナリと1単位の科目のリストを作成する\n",
        "gp_list = convert_gp( seiseki_dict[\"成績\"] )  # 成績をgpに変換する\n",
        "GPA = calc_gpa( gp_list , seiseki_dict[\"科目名\"] , one_unit_class )  # GPAを求める\n",
        "print(f'GPA:{GPA}')"
      ],
      "metadata": {
        "id": "4_KjT73rJAkT",
        "colab": {
          "base_uri": "https://localhost:8080/"
        },
        "outputId": "83bcc6ae-2b24-4488-e723-1508a2b16913"
      },
      "execution_count": 206,
      "outputs": [
        {
          "output_type": "stream",
          "name": "stdout",
          "text": [
            "GPA:3.262295081967213\n"
          ]
        }
      ]
    },
    {
      "cell_type": "code",
      "source": [
        "# 参考 1単位の授業をまとめたリスト\n",
        "one_unit_class = []"
      ],
      "metadata": {
        "id": "LiCCAoDqJA5r"
      },
      "execution_count": null,
      "outputs": []
    },
    {
      "cell_type": "code",
      "source": [
        "# 参考 成績データの空ディクショナリ\n",
        "seiseki_data = {\"授業\":[],\"成績\":[]}"
      ],
      "metadata": {
        "id": "AUVzFPP1JJlO"
      },
      "execution_count": null,
      "outputs": []
    }
  ]
}